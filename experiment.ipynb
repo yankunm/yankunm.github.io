{
 "cells": [
  {
   "cell_type": "code",
   "execution_count": 5,
   "id": "35f51a5c",
   "metadata": {},
   "outputs": [],
   "source": [
    "import tidy3d as td\n",
    "import numpy as np\n",
    "import matplotlib.pyplot as plt \n",
    "import tidy3d.web as web"
   ]
  },
  {
   "cell_type": "code",
   "execution_count": 6,
   "id": "14676625",
   "metadata": {},
   "outputs": [
    {
     "data": {
      "text/html": [
       "<pre style=\"white-space:pre;overflow-x:auto;line-height:normal;font-family:Menlo,'DejaVu Sans Mono',consolas,'Courier New',monospace\"><span style=\"color: #7fbfbf; text-decoration-color: #7fbfbf\">18:03:04 EDT </span>Authentication configured successfully!                            \n",
       "</pre>\n"
      ],
      "text/plain": [
       "\u001b[2;36m18:03:04 EDT\u001b[0m\u001b[2;36m \u001b[0mAuthentication configured successfully!                            \n"
      ]
     },
     "metadata": {},
     "output_type": "display_data"
    }
   ],
   "source": [
    "web.test()"
   ]
  },
  {
   "cell_type": "code",
   "execution_count": null,
   "id": "9889b3e4",
   "metadata": {},
   "outputs": [],
   "source": []
  }
 ],
 "metadata": {
  "kernelspec": {
   "display_name": "ai",
   "language": "python",
   "name": "python3"
  },
  "language_info": {
   "codemirror_mode": {
    "name": "ipython",
    "version": 3
   },
   "file_extension": ".py",
   "mimetype": "text/x-python",
   "name": "python",
   "nbconvert_exporter": "python",
   "pygments_lexer": "ipython3",
   "version": "3.11.13"
  }
 },
 "nbformat": 4,
 "nbformat_minor": 5
}
