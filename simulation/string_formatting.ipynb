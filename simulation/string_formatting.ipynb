{
 "cells": [
  {
   "cell_type": "markdown",
   "id": "44b25e75",
   "metadata": {},
   "source": [
    "# String Formatting"
   ]
  },
  {
   "cell_type": "markdown",
   "id": "50918cd0",
   "metadata": {},
   "source": [
    "There are three ways to format strings:\n",
    "\n",
    "1. \"Old style\" string formatting\n",
    "2. Using \".format()\" Method\n",
    "3. Using python f-strings"
   ]
  },
  {
   "cell_type": "markdown",
   "id": "56effd9b",
   "metadata": {},
   "source": [
    "## Old Style string formatting with `%`"
   ]
  },
  {
   "cell_type": "code",
   "execution_count": null,
   "id": "b76e7b80",
   "metadata": {},
   "outputs": [
    {
     "name": "stdout",
     "output_type": "stream",
     "text": [
      "Hello Alex!\n"
     ]
    }
   ],
   "source": [
    "# data type comes after a modulo sign\n",
    "# %s - string, and it is inside quotation marks\n",
    "# to assign value, you need to call % outside string\n",
    "print(\"Hello, %s\" % \"Alex!\")"
   ]
  },
  {
   "cell_type": "code",
   "execution_count": 6,
   "id": "6b780f95",
   "metadata": {},
   "outputs": [
    {
     "name": "stdout",
     "output_type": "stream",
     "text": [
      "Alex is 20 years old and has $1000.567890.\n"
     ]
    }
   ],
   "source": [
    "# Use %d for integers and %f for floating point numbers\n",
    "# In order to insert multiple values, use a tuple\n",
    "name = \"Alex\"\n",
    "age = 20.2\n",
    "money = 1000.56789\n",
    "\n",
    "print(\"%s is %d years old and has $%f.\" % (name, age, money))"
   ]
  },
  {
   "cell_type": "code",
   "execution_count": 8,
   "id": "307ab999",
   "metadata": {},
   "outputs": [
    {
     "name": "stdout",
     "output_type": "stream",
     "text": [
      "Hello Alex, your current balance is $1000.567890\n"
     ]
    }
   ],
   "source": [
    "# Write it this way to be cleaner\n",
    "fstring = \"Hello %s, your current balance is $%f\"\n",
    "data = (\"Alex\", 1000.56789)\n",
    "print(fstring % data)"
   ]
  },
  {
   "cell_type": "markdown",
   "id": "e00d1ab7",
   "metadata": {},
   "source": [
    "---"
   ]
  },
  {
   "cell_type": "markdown",
   "id": "c08afa1d",
   "metadata": {},
   "source": [
    "### General Arguments"
   ]
  },
  {
   "cell_type": "markdown",
   "id": "2c95c68d",
   "metadata": {},
   "source": [
    "%[key][flags][width][.precision][length_type][conversion type] % [value]"
   ]
  },
  {
   "cell_type": "code",
   "execution_count": 11,
   "id": "e1ce24d6",
   "metadata": {},
   "outputs": [
    {
     "name": "stdout",
     "output_type": "stream",
     "text": [
      "foo bar\n"
     ]
    }
   ],
   "source": [
    "# Simplest string formatting\n",
    "print(\"%s %s\" % (\"foo\", \"bar\"))"
   ]
  },
  {
   "cell_type": "code",
   "execution_count": 15,
   "id": "ced0ef5a",
   "metadata": {},
   "outputs": [
    {
     "name": "stdout",
     "output_type": "stream",
     "text": [
      "1.000000 2.000000\n"
     ]
    }
   ],
   "source": [
    "# Floats\n",
    "# %[type]\n",
    "print(\"%f %f\" % (1, 2))"
   ]
  },
  {
   "cell_type": "code",
   "execution_count": null,
   "id": "195ea57a",
   "metadata": {},
   "outputs": [
    {
     "name": "stdout",
     "output_type": "stream",
     "text": [
      "20\n"
     ]
    }
   ],
   "source": [
    "# Working with dictionaries\n",
    "# %([key])[type] -> prints out [value]\n",
    "dct = {\"Alex\":20, 'Bob':18}\n",
    "print(\"%(Alex)s\" % dct)"
   ]
  },
  {
   "cell_type": "code",
   "execution_count": 18,
   "id": "7dd4b275",
   "metadata": {},
   "outputs": [
    {
     "name": "stdout",
     "output_type": "stream",
     "text": [
      "Total number of students    3\n"
     ]
    }
   ],
   "source": [
    "# We can specify the minimum width given to the inputs\n",
    "# width -> how much space to reserve for the value\n",
    "# (C style programming)\n",
    "# 2 and 4 are widths\n",
    "# %[key][width][type]\n",
    "\n",
    "print(\"Total number of students %4d\" % 3)"
   ]
  },
  {
   "cell_type": "code",
   "execution_count": 40,
   "id": "9e96a05c",
   "metadata": {},
   "outputs": [
    {
     "name": "stdout",
     "output_type": "stream",
     "text": [
      "Octal representation of 8 is 10\n",
      "Hexadecimal representation of 255 is ff\n"
     ]
    }
   ],
   "source": [
    "# New type: %o - octal representation\n",
    "print(\"Octal representation of %d is %o\" % (8, 8))\n",
    "\n",
    "# New type: %x - hexadecimal representation\n",
    "print(\"Hexadecimal representation of %d is %x\" % (255, 255))"
   ]
  },
  {
   "cell_type": "markdown",
   "id": "4288ad1c",
   "metadata": {},
   "source": [
    "Flags:\n",
    "\n",
    "- '0' - Pad with zeros\n",
    "- '-' - Left align the value\n",
    "- '+' - Always include the sign (+ or -)\n",
    "- ' ' - Leave a space before positive numbers"
   ]
  },
  {
   "cell_type": "code",
   "execution_count": 24,
   "id": "605616ed",
   "metadata": {},
   "outputs": [
    {
     "name": "stdout",
     "output_type": "stream",
     "text": [
      "number 3\n",
      "number    3\n",
      "number 0003\n"
     ]
    }
   ],
   "source": [
    "print(\"number %d\" % 3)      # %[type]\n",
    "print(\"number %4d\" % 3)     # %[width][type]\n",
    "print(\"number %04d\" % 3)    # %[flag][width][type]"
   ]
  },
  {
   "cell_type": "code",
   "execution_count": 28,
   "id": "c4dc2111",
   "metadata": {},
   "outputs": [
    {
     "name": "stdout",
     "output_type": "stream",
     "text": [
      "    1|\n",
      "1    |\n",
      "1    |\n"
     ]
    }
   ],
   "source": [
    "print(\"%5d|\" % 1)   # right align the value\n",
    "print(\"%-5d|\" % 1)  # left align the value\n",
    "print(\"%0-5d|\" % 1)  # first flag will be overriden"
   ]
  },
  {
   "cell_type": "code",
   "execution_count": 38,
   "id": "8eb8fcf4",
   "metadata": {},
   "outputs": [
    {
     "name": "stdout",
     "output_type": "stream",
     "text": [
      "positive 3\n",
      "positive  3\n",
      "positive  3\n",
      "negative -3\n",
      "number 3\n",
      "number +3\n"
     ]
    }
   ],
   "source": [
    "print(\"positive %d\" % 3) # space before positive number\n",
    "print(\"positive % d\" % 3) # space before positive number\n",
    "print(\"positive %  d\" % 3) # first space overriden by second space\n",
    "print(\"negative %d\" % -3)\n",
    "\n",
    "# sign flags\n",
    "print(\"number %d\" % +3)   # doesn't work\n",
    "print(\"number %+d\" % 3)   # always show sign"
   ]
  },
  {
   "cell_type": "markdown",
   "id": "fddd5460",
   "metadata": {},
   "source": [
    "precision: For floating point numbers, this is the number of digits to show AFTER the decimal point."
   ]
  },
  {
   "cell_type": "code",
   "execution_count": 47,
   "id": "cf89f842",
   "metadata": {},
   "outputs": [
    {
     "name": "stdout",
     "output_type": "stream",
     "text": [
      "number 3.141590\n",
      "number 3.14\n",
      "Your id is:   7. Your score is 0000003.14\n"
     ]
    }
   ],
   "source": [
    "# %.[precision][type]\n",
    "print(\"number %f\" % 3.14159)      # default precision is 6\n",
    "print(\"number %.2f\" % 3.14159)    # precision\n",
    "print(\"Your id is: %3d. Your score is %010.2f\" % (7, 3.14159))\n",
    "# 0 padding, width 10, precission 2"
   ]
  },
  {
   "cell_type": "code",
   "execution_count": 50,
   "id": "5a2a7f04",
   "metadata": {},
   "outputs": [
    {
     "name": "stdout",
     "output_type": "stream",
     "text": [
      "number 1.000000E+06\n",
      "number 1.00E+06\n"
     ]
    }
   ],
   "source": [
    "# New format: E is scientific notation\n",
    "print(\"number %E\" % 1000000)\n",
    "print(\"number %.2E\" % 1000000)  "
   ]
  },
  {
   "cell_type": "code",
   "execution_count": 51,
   "id": "f0a3dbda",
   "metadata": {},
   "outputs": [
    {
     "name": "stdout",
     "output_type": "stream",
     "text": [
      "Hello\n"
     ]
    }
   ],
   "source": [
    "# Precision with strings truncates the string\n",
    "print(\"%.5s\" % \"HelloWorld\")  # Hello"
   ]
  },
  {
   "cell_type": "markdown",
   "id": "ca3a16bf",
   "metadata": {},
   "source": [
    "## Using `.format()` Method"
   ]
  },
  {
   "cell_type": "markdown",
   "id": "ce7a62bc",
   "metadata": {},
   "source": []
  },
  {
   "cell_type": "markdown",
   "id": "1b3a4afd",
   "metadata": {},
   "source": [
    "## Using f-strings"
   ]
  },
  {
   "cell_type": "markdown",
   "id": "244b8e2f",
   "metadata": {},
   "source": []
  },
  {
   "cell_type": "markdown",
   "id": "0cb5b0e7",
   "metadata": {},
   "source": [
    "## Resources\n",
    "\n",
    "- [Old Style Tutorial](https://youtu.be/t1tX3V9dRUM?si=49XTofBLXFuNtiiE)\n",
    "- [.format() Method Tutorial](https://youtu.be/YSHKdH3Upus?si=-aPFtxoAxD9sLOyt)\n",
    "- [fString Tutorial](https://youtu.be/nghuHvKLhJA?si=7tRuKQczuqZa0kqu)"
   ]
  }
 ],
 "metadata": {
  "kernelspec": {
   "display_name": "ai",
   "language": "python",
   "name": "python3"
  },
  "language_info": {
   "codemirror_mode": {
    "name": "ipython",
    "version": 3
   },
   "file_extension": ".py",
   "mimetype": "text/x-python",
   "name": "python",
   "nbconvert_exporter": "python",
   "pygments_lexer": "ipython3",
   "version": "3.11.13"
  }
 },
 "nbformat": 4,
 "nbformat_minor": 5
}
