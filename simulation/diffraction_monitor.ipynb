{
 "cells": [
  {
   "cell_type": "markdown",
   "id": "fabeec72",
   "metadata": {},
   "source": [
    "# Diffraction Monitor in Tidy3D"
   ]
  },
  {
   "cell_type": "markdown",
   "id": "75b7a807",
   "metadata": {},
   "source": [
    "Here I explored the use of Diffraction Monitor ([Documentation](https://docs.flexcompute.com/projects/tidy3d/en/latest/api/_autosummary/tidy3d.DiffractionMonitor.html)) on Huygen's Metasurface."
   ]
  },
  {
   "cell_type": "code",
   "execution_count": 2,
   "id": "b5a9d8a1",
   "metadata": {},
   "outputs": [],
   "source": [
    "# Import the necessary packages\n",
    "import matplotlib.pyplot as plt\n",
    "import numpy as np\n",
    "import tidy3d as td\n",
    "import tidy3d.web as web\n",
    "import scienceplots\n",
    "\n",
    "# Set logging level to ERROR to reduce output verbosity\n",
    "td.config.logging_level = \"ERROR\""
   ]
  },
  {
   "cell_type": "code",
   "execution_count": 3,
   "id": "cf54f543",
   "metadata": {},
   "outputs": [],
   "source": [
    "# 0 Define a FreqRange object with desired wavelengths\n",
    "fr = td.FreqRange.from_wvl_interval(wvl_min=1.1, wvl_max=1.6)\n",
    "N = 301 # num_points\n",
    "freq0 = fr.freq0\n",
    "lda0 = td.C_0 / fr.freq0"
   ]
  },
  {
   "cell_type": "code",
   "execution_count": 4,
   "id": "90d6ff3a",
   "metadata": {},
   "outputs": [],
   "source": [
    "# 1 Computational Domain Size\n",
    "h = 0.220  # Height of cylinder\n",
    "spc = 2\n",
    "Lz = spc + h + h + spc\n",
    "\n",
    "Px = Py = P = 0.666 # periodicity\n",
    "sim_size = [Px, Py, Lz]"
   ]
  },
  {
   "cell_type": "code",
   "execution_count": 202,
   "id": "ba5863b8",
   "metadata": {},
   "outputs": [],
   "source": [
    "# 2 Grid Resolution\n",
    "dl = P / 128\n",
    "horizontal_grid = td.UniformGrid(dl=dl)\n",
    "vertical_grid = td.AutoGrid(min_steps_per_wvl=32)\n",
    "grid_spec=td.GridSpec(\n",
    "    grid_x=horizontal_grid,\n",
    "    grid_y=horizontal_grid,\n",
    "    grid_z=vertical_grid,\n",
    ")"
   ]
  },
  {
   "cell_type": "code",
   "execution_count": 203,
   "id": "3604268e",
   "metadata": {},
   "outputs": [],
   "source": [
    "r = 0.242  # radius of the cylinder\n",
    "n_Si = 3.5\n",
    "Si = td.Medium(permittivity=n_Si**2, name='Si')\n",
    "cylinder = td.Structure(\n",
    "    geometry=td.Cylinder(center=[0, 0, h / 2], radius=r, length=h, axis=2), medium=Si\n",
    ")\n",
    "\n",
    "# Background medium for the first simulation\n",
    "n_glass = 1.4\n",
    "n_SiO2 = 1.45\n",
    "glass = td.Medium(permittivity=n_glass**2, name='glass')\n",
    "SiO2 = td.Medium(permittivity=n_SiO2**2, name='oxide')\n",
    "\n",
    "substrate = td.Structure(\n",
    "    geometry=td.Box(\n",
    "        center=(0,0,-Lz/2),\n",
    "        size=(td.inf,td.inf,2 * (spc+h))\n",
    "    ),\n",
    "    medium=SiO2,\n",
    "    name='substrate'\n",
    ")\n",
    "\n",
    "glass = td.Structure(\n",
    "    geometry=td.Box(\n",
    "        center=(0,0,Lz/2),\n",
    "        size=(td.inf,td.inf,2 * (spc+h))\n",
    "    ),\n",
    "    medium=glass,\n",
    "    name='superstrate'\n",
    ")\n",
    "\n",
    "# Background medium for the second simulation\n",
    "# Polymer\n",
    "n_polymer = 1.66\n",
    "polymer = td.Structure(\n",
    "    geometry=td.Box(\n",
    "        center=(0,0,0),\n",
    "        size=(td.inf,td.inf,td.inf)\n",
    "    ),\n",
    "    medium=td.Medium(permittivity=n_polymer**2, name='polymer'),\n",
    "    name='polymer'\n",
    ")\n",
    "\n",
    "source = td.PlaneWave(\n",
    "    source_time=fr.to_gaussian_pulse(),\n",
    "    size=(td.inf, td.inf, 0),\n",
    "    center=(0, 0, Lz/2 - spc + 0.5 * lda0),\n",
    "    direction=\"-\",\n",
    "    pol_angle=0\n",
    ")\n",
    "\n",
    "monitor = td.DiffractionMonitor(\n",
    "    center=(0, 0, -Lz/2 + spc - 0.5 * lda0),\n",
    "    size=(td.inf,td.inf,0),\n",
    "    freqs=fr.freqs(N),\n",
    "    name='diffraction_monitor',\n",
    "    normal_dir='-', # away from structure\n",
    ")\n",
    "\n",
    "bandwidth = fr.fmax - fr.fmin\n",
    "run_time = 200 / bandwidth\n",
    "\n",
    "bc = td.BoundarySpec(\n",
    "    x=td.Boundary.periodic(), \n",
    "    y=td.Boundary.periodic(), \n",
    "    z=td.Boundary.pml()\n",
    ")"
   ]
  },
  {
   "cell_type": "code",
   "execution_count": 204,
   "id": "5cb9a940",
   "metadata": {},
   "outputs": [],
   "source": [
    "def simulation_helper(background, monitors, run_time):\n",
    "    \"\"\"\n",
    "    Create normalization and actual tidy3d simulations, visualize geometry, \n",
    "    and return both as a dictionary.\n",
    "\n",
    "    Parameters\n",
    "    ----------\n",
    "    background : list of td.Structure\n",
    "        Background structures (without the cylinder).\n",
    "    monitors : list of td.Monitor\n",
    "        Monitors for the normalization run.\n",
    "    run_time : float\n",
    "        Run time for the normalization simulation.\n",
    "\n",
    "    Returns\n",
    "    -------\n",
    "    dict\n",
    "        {\"norm\": Simulation without cylinder,\n",
    "         \"actual\": Simulation with cylinder}\n",
    "\n",
    "    Notes\n",
    "    -----\n",
    "    Saves cross-sectional plots of the actual simulation (x=0, y=0, z=0) \n",
    "    with grid overlay for verification.\n",
    "    \"\"\"\n",
    "    sim_empty=td.Simulation(\n",
    "        size=sim_size,\n",
    "        grid_spec=grid_spec,\n",
    "        structures=background,\n",
    "        sources=[source],\n",
    "        monitors=monitors,\n",
    "        run_time=run_time,\n",
    "        boundary_spec=bc\n",
    "    )\n",
    "\n",
    "    background.append(cylinder)\n",
    "    sim_actual = td.Simulation(\n",
    "        size=sim_size,\n",
    "        grid_spec=grid_spec,\n",
    "        structures=background,\n",
    "        sources=[source],\n",
    "        monitors=monitors,\n",
    "        run_time=run_time,\n",
    "        boundary_spec=bc\n",
    "    )\n",
    "\n",
    "    # Always visualize simulation before running\n",
    "    fig, (ax1,ax2,ax3) = plt.subplots(1, 3, figsize=(12, 6))\n",
    "    ax1.tick_params(axis='x', labelsize=7)\n",
    "    ax2.tick_params(axis='x', labelsize=7)\n",
    "    sim_actual.plot(x=0, ax=ax1)\n",
    "    sim_actual.plot_grid(x=0, ax=ax1)\n",
    "    sim_actual.plot(y=0, ax=ax2)\n",
    "    sim_actual.plot_grid(y=0, ax=ax2)\n",
    "    sim_actual.plot(z=0, ax=ax3)\n",
    "    sim_actual.plot_grid(z=0, ax=ax3)\n",
    "    plt.savefig(f'huygens_structure_{background[0].name}.png', dpi=300)\n",
    "    plt.show()\n",
    "\n",
    "    sims = {\n",
    "        \"norm\": sim_empty,\n",
    "        \"actual\": sim_actual,\n",
    "    }\n",
    "\n",
    "    return sims\n",
    "\n"
   ]
  },
  {
   "cell_type": "markdown",
   "id": "f484ad99",
   "metadata": {},
   "source": [
    "### Simulation"
   ]
  },
  {
   "cell_type": "code",
   "execution_count": 24,
   "id": "fd3ac1ac",
   "metadata": {},
   "outputs": [
    {
     "data": {
      "image/png": "[encoded data removed]",
      "text/plain": [
       "<Figure size 1200x600 with 3 Axes>"
      ]
     },
     "metadata": {},
     "output_type": "display_data"
    }
   ],
   "source": [
    "sims = simulation_helper(\n",
    "    background=[substrate, glass],\n",
    "    monitors=[monitor],\n",
    "    run_time=run_time\n",
    ")"
   ]
  },
  {
   "cell_type": "code",
   "execution_count": 25,
   "id": "242457bd",
   "metadata": {},
   "outputs": [
    {
     "data": {
      "application/vnd.jupyter.widget-view+json": {
       "model_id": "13863ca5a50641a58740bee4b7f4e33c",
       "version_major": 2,
       "version_minor": 0
      },
      "text/plain": [
       "Output()"
      ]
     },
     "metadata": {},
     "output_type": "display_data"
    },
    {
     "data": {
      "text/html": [
       "<pre style=\"white-space:pre;overflow-x:auto;line-height:normal;font-family:Menlo,'DejaVu Sans Mono',consolas,'Courier New',monospace\"></pre>\n"
      ],
      "text/plain": []
     },
     "metadata": {},
     "output_type": "display_data"
    },
    {
     "data": {
      "text/html": [
       "<pre style=\"white-space:pre;overflow-x:auto;line-height:normal;font-family:Menlo,'DejaVu Sans Mono',consolas,'Courier New',monospace\"><span style=\"color: #7fbfbf; text-decoration-color: #7fbfbf\">20:41:03 EDT </span>Started working on Batch containing <span style=\"color: #008080; text-decoration-color: #008080; font-weight: bold\">2</span> tasks.                       \n",
       "</pre>\n"
      ],
      "text/plain": [
       "\u001b[2;36m20:41:03 EDT\u001b[0m\u001b[2;36m \u001b[0mStarted working on Batch containing \u001b[1;36m2\u001b[0m tasks.                       \n"
      ]
     },
     "metadata": {},
     "output_type": "display_data"
    },
    {
     "data": {
      "text/html": [
       "<pre style=\"white-space:pre;overflow-x:auto;line-height:normal;font-family:Menlo,'DejaVu Sans Mono',consolas,'Courier New',monospace\"><span style=\"color: #7fbfbf; text-decoration-color: #7fbfbf\">20:41:05 EDT </span>Maximum FlexCredit cost: <span style=\"color: #008080; text-decoration-color: #008080; font-weight: bold\">0.050</span> for the whole batch.                \n",
       "</pre>\n"
      ],
      "text/plain": [
       "\u001b[2;36m20:41:05 EDT\u001b[0m\u001b[2;36m \u001b[0mMaximum FlexCredit cost: \u001b[1;36m0.050\u001b[0m for the whole batch.                \n"
      ]
     },
     "metadata": {},
     "output_type": "display_data"
    },
    {
     "data": {
      "text/html": [
       "<pre style=\"white-space:pre;overflow-x:auto;line-height:normal;font-family:Menlo,'DejaVu Sans Mono',consolas,'Courier New',monospace\"><span style=\"color: #7fbfbf; text-decoration-color: #7fbfbf\">             </span>Use <span style=\"color: #008000; text-decoration-color: #008000\">'Batch.real_cost()'</span> to get the billed FlexCredit cost after the\n",
       "<span style=\"color: #7fbfbf; text-decoration-color: #7fbfbf\">             </span>Batch has completed.                                               \n",
       "</pre>\n"
      ],
      "text/plain": [
       "\u001b[2;36m            \u001b[0m\u001b[2;36m \u001b[0mUse \u001b[32m'Batch.real_cost\u001b[0m\u001b[32m(\u001b[0m\u001b[32m)\u001b[0m\u001b[32m'\u001b[0m to get the billed FlexCredit cost after the\n",
       "\u001b[2;36m             \u001b[0mBatch has completed.                                               \n"
      ]
     },
     "metadata": {},
     "output_type": "display_data"
    },
    {
     "data": {
      "application/vnd.jupyter.widget-view+json": {
       "model_id": "07fd9a70a3064c93908f8b8311ef4214",
       "version_major": 2,
       "version_minor": 0
      },
      "text/plain": [
       "Output()"
      ]
     },
     "metadata": {},
     "output_type": "display_data"
    },
    {
     "data": {
      "text/html": [
       "<pre style=\"white-space:pre;overflow-x:auto;line-height:normal;font-family:Menlo,'DejaVu Sans Mono',consolas,'Courier New',monospace\"><span style=\"color: #7fbfbf; text-decoration-color: #7fbfbf\">20:41:16 EDT </span>Batch complete.                                                    \n",
       "</pre>\n"
      ],
      "text/plain": [
       "\u001b[2;36m20:41:16 EDT\u001b[0m\u001b[2;36m \u001b[0mBatch complete.                                                    \n"
      ]
     },
     "metadata": {},
     "output_type": "display_data"
    },
    {
     "data": {
      "text/html": [
       "<pre style=\"white-space:pre;overflow-x:auto;line-height:normal;font-family:Menlo,'DejaVu Sans Mono',consolas,'Courier New',monospace\"></pre>\n"
      ],
      "text/plain": []
     },
     "metadata": {},
     "output_type": "display_data"
    },
    {
     "data": {
      "application/vnd.jupyter.widget-view+json": {
       "model_id": "9370f2d057954a4386efc296427987de",
       "version_major": 2,
       "version_minor": 0
      },
      "text/plain": [
       "Output()"
      ]
     },
     "metadata": {},
     "output_type": "display_data"
    },
    {
     "data": {
      "text/html": [
       "<pre style=\"white-space:pre;overflow-x:auto;line-height:normal;font-family:Menlo,'DejaVu Sans Mono',consolas,'Courier New',monospace\"></pre>\n"
      ],
      "text/plain": []
     },
     "metadata": {},
     "output_type": "display_data"
    }
   ],
   "source": [
    "batch = web.Batch(simulations=sims, verbose=True)\n",
    "batch_data = batch.run(path_dir=\"data/huygens_diffraction\")"
   ]
  },
  {
   "cell_type": "markdown",
   "id": "9dea1a21",
   "metadata": {},
   "source": [
    "## Diffraction Monitor Results"
   ]
  },
  {
   "cell_type": "code",
   "execution_count": null,
   "id": "ef260e87",
   "metadata": {},
   "outputs": [],
   "source": [
    "dD = batch_data[\"actual\"][\"diffraction_monitor\"]\n",
    "norm_data = batch_data[\"norm\"][\"diffraction_monitor\"]\n",
    "\n",
    "# diffraction_data.help()"
   ]
  },
  {
   "cell_type": "code",
   "execution_count": 41,
   "id": "9b2b10b7",
   "metadata": {},
   "outputs": [
    {
     "data": {
      "text/plain": [
       "DiffractionMonitor(attrs={}, type='DiffractionMonitor', center=(0.0, 0.0, -0.8718518518518521), size=(inf, inf, 0.0), name='diffraction_monitor', interval_space=(1, 1, 1), colocate=False, freqs=(187370286250000.0, 187654180623106.06, 187938074996212.12, 188221969369318.2, 188505863742424.25, 188789758115530.3, 189073652488636.38, 189357546861742.44, 189641441234848.47, 189925335607954.53, 190209229981060.6, 190493124354166.66, 190777018727272.72, 191060913100378.78, 191344807473484.84, 191628701846590.9, 191912596219696.97, 192196490592803.03, 192480384965909.1, 192764279339015.16, 193048173712121.22, 193332068085227.28, 193615962458333.34, 193899856831439.38, 194183751204545.44, 194467645577651.5, 194751539950757.56, 195035434323863.62, 195319328696969.7, 195603223070075.75, 195887117443181.8, 196171011816287.88, 196454906189393.94, 196738800562500.0, 197022694935606.06, 197306589308712.12, 197590483681818.2, 197874378054924.25, 198158272428030.3, 198442166801136.34, 198726061174242.4, 199009955547348.47, 199293849920454.53, 199577744293560.6, 199861638666666.66, 200145533039772.72, 200429427412878.78, 200713321785984.84, 200997216159090.9, 201281110532196.97, 201565004905303.03, 201848899278409.1, 202132793651515.16, 202416688024621.2, 202700582397727.25, 202984476770833.3, 203268371143939.38, 203552265517045.44, 203836159890151.5, 204120054263257.56, 204403948636363.62, 204687843009469.7, 204971737382575.75, 205255631755681.8, 205539526128787.88, 205823420501893.94, 206107314875000.0, 206391209248106.06, 206675103621212.12, 206958997994318.16, 207242892367424.22, 207526786740530.28, 207810681113636.34, 208094575486742.4, 208378469859848.47, 208662364232954.53, 208946258606060.6, 209230152979166.66, 209514047352272.72, 209797941725378.78, 210081836098484.84, 210365730471590.9, 210649624844696.94, 210933519217803.0, 211217413590909.06, 211501307964015.12, 211785202337121.2, 212069096710227.25, 212352991083333.3, 212636885456439.38, 212920779829545.44, 213204674202651.5, 213488568575757.56, 213772462948863.62, 214056357321969.7, 214340251695075.75, 214624146068181.8, 214908040441287.88, 215191934814393.94, 215475829187499.97, 215759723560606.03, 216043617933712.1, 216327512306818.16, 216611406679924.22, 216895301053030.28, 217179195426136.34, 217463089799242.4, 217746984172348.47, 218030878545454.53, 218314772918560.6, 218598667291666.66, 218882561664772.72, 219166456037878.75, 219450350410984.8, 219734244784090.88, 220018139157196.94, 220302033530303.0, 220585927903409.06, 220869822276515.12, 221153716649621.2, 221437611022727.25, 221721505395833.3, 222005399768939.38, 222289294142045.44, 222573188515151.5, 222857082888257.56, 223140977261363.62, 223424871634469.7, 223708766007575.75, 223992660380681.8, 224276554753787.84, 224560449126893.9, 224844343499999.97, 225128237873106.03, 225412132246212.1, 225696026619318.16, 225979920992424.22, 226263815365530.28, 226547709738636.34, 226831604111742.4, 227115498484848.47, 227399392857954.53, 227683287231060.56, 227967181604166.62, 228251075977272.7, 228534970350378.75, 228818864723484.8, 229102759096590.88, 229386653469696.94, 229670547842803.0, 229954442215909.06, 230238336589015.12, 230522230962121.2, 230806125335227.25, 231090019708333.3, 231373914081439.38, 231657808454545.44, 231941702827651.5, 232225597200757.56, 232509491573863.62, 232793385946969.7, 233077280320075.72, 233361174693181.78, 233645069066287.84, 233928963439393.9, 234212857812499.97, 234496752185606.03, 234780646558712.1, 235064540931818.16, 235348435304924.22, 235632329678030.28, 235916224051136.34, 236200118424242.38, 236484012797348.44, 236767907170454.5, 237051801543560.56, 237335695916666.62, 237619590289772.7, 237903484662878.75, 238187379035984.8, 238471273409090.88, 238755167782196.94, 239039062155303.0, 239322956528409.06, 239606850901515.12, 239890745274621.2, 240174639647727.25, 240458534020833.3, 240742428393939.38, 241026322767045.44, 241310217140151.5, 241594111513257.53, 241878005886363.6, 242161900259469.66, 242445794632575.72, 242729689005681.78, 243013583378787.84, 243297477751893.9, 243581372124999.97, 243865266498106.03, 244149160871212.1, 244433055244318.16, 244716949617424.2, 245000843990530.25, 245284738363636.3, 245568632736742.38, 245852527109848.44, 246136421482954.5, 246420315856060.56, 246704210229166.62, 246988104602272.7, 247271998975378.75, 247555893348484.8, 247839787721590.88, 248123682094696.94, 248407576467803.0, 248691470840909.06, 248975365214015.12, 249259259587121.2, 249543153960227.25, 249827048333333.3, 250110942706439.34, 250394837079545.4, 250678731452651.47, 250962625825757.53, 251246520198863.6, 251530414571969.66, 251814308945075.72, 252098203318181.78, 252382097691287.84, 252665992064393.9, 252949886437499.97, 253233780810606.0, 253517675183712.06, 253801569556818.12, 254085463929924.2, 254369358303030.25, 254653252676136.3, 254937147049242.38, 255221041422348.44, 255504935795454.5, 255788830168560.56, 256072724541666.62, 256356618914772.7, 256640513287878.75, 256924407660984.8, 257208302034090.88, 257492196407196.94, 257776090780303.0, 258059985153409.06, 258343879526515.12, 258627773899621.2, 258911668272727.25, 259195562645833.28, 259479457018939.34, 259763351392045.4, 260047245765151.47, 260331140138257.53, 260615034511363.6, 260898928884469.66, 261182823257575.7, 261466717630681.75, 261750612003787.8, 262034506376893.88, 262318400749999.94, 262602295123106.0, 262886189496212.06, 263170083869318.12, 263453978242424.2, 263737872615530.25, 264021766988636.3, 264305661361742.38, 264589555734848.44, 264873450107954.5, 265157344481060.56, 265441238854166.62, 265725133227272.7, 266009027600378.75, 266292921973484.8, 266576816346590.88, 266860710719696.94, 267144605092803.0, 267428499465909.06, 267712393839015.1, 267996288212121.16, 268280182585227.22, 268564076958333.28, 268847971331439.34, 269131865704545.4, 269415760077651.47, 269699654450757.5, 269983548823863.56, 270267443196969.62, 270551337570075.7, 270835231943181.75, 271119126316287.8, 271403020689393.88, 271686915062499.94, 271970809435606.0, 272254703808712.06, 272538598181818.12), apodization=ApodizationSpec(attrs={}, start=None, end=None, width=None, type='ApodizationSpec'), normal_dir='-')"
      ]
     },
     "execution_count": 41,
     "metadata": {},
     "output_type": "execute_result"
    }
   ],
   "source": [
    "dD.monitor"
   ]
  },
  {
   "cell_type": "code",
   "execution_count": 42,
   "id": "92b8c5de",
   "metadata": {},
   "outputs": [
    {
     "data": {
      "text/html": [
       "<div><svg style=\"position: absolute; width: 0; height: 0; overflow: hidden\">\n",
       "<defs>\n",
       "<symbol id=\"icon-database\" viewBox=\"0 0 32 32\">\n",
       "<path d=\"M16 0c-8.837 0-16 2.239-16 5v4c0 2.761 7.163 5 16 5s16-2.239 16-5v-4c0-2.761-7.163-5-16-5z\"></path>\n",
       "<path d=\"M16 17c-8.837 0-16-2.239-16-5v6c0 2.761 7.163 5 16 5s16-2.239 16-5v-6c0 2.761-7.163 5-16 5z\"></path>\n",
       "<path d=\"M16 26c-8.837 0-16-2.239-16-5v6c0 2.761 7.163 5 16 5s16-2.239 16-5v-6c0 2.761-7.163 5-16 5z\"></path>\n",
       "</symbol>\n",
       "<symbol id=\"icon-file-text2\" viewBox=\"0 0 32 32\">\n",
       "<path d=\"M28.681 7.159c-0.694-0.947-1.662-2.053-2.724-3.116s-2.169-2.030-3.116-2.724c-1.612-1.182-2.393-1.319-2.841-1.319h-15.5c-1.378 0-2.5 1.121-2.5 2.5v27c0 1.378 1.122 2.5 2.5 2.5h23c1.378 0 2.5-1.122 2.5-2.5v-19.5c0-0.448-0.137-1.23-1.319-2.841zM24.543 5.457c0.959 0.959 1.712 1.825 2.268 2.543h-4.811v-4.811c0.718 0.556 1.584 1.309 2.543 2.268zM28 29.5c0 0.271-0.229 0.5-0.5 0.5h-23c-0.271 0-0.5-0.229-0.5-0.5v-27c0-0.271 0.229-0.5 0.5-0.5 0 0 15.499-0 15.5 0v7c0 0.552 0.448 1 1 1h7v19.5z\"></path>\n",
       "<path d=\"M23 26h-14c-0.552 0-1-0.448-1-1s0.448-1 1-1h14c0.552 0 1 0.448 1 1s-0.448 1-1 1z\"></path>\n",
       "<path d=\"M23 22h-14c-0.552 0-1-0.448-1-1s0.448-1 1-1h14c0.552 0 1 0.448 1 1s-0.448 1-1 1z\"></path>\n",
       "<path d=\"M23 18h-14c-0.552 0-1-0.448-1-1s0.448-1 1-1h14c0.552 0 1 0.448 1 1s-0.448 1-1 1z\"></path>\n",
       "</symbol>\n",
       "</defs>\n",
       "</svg>\n",
       "<style>/* CSS stylesheet for displaying xarray objects in jupyterlab.\n",
       " *\n",
       " */\n",
       "\n",
       ":root {\n",
       "  --xr-font-color0: var(\n",
       "    --jp-content-font-color0,\n",
       "    var(--pst-color-text-base rgba(0, 0, 0, 1))\n",
       "  );\n",
       "  --xr-font-color2: var(\n",
       "    --jp-content-font-color2,\n",
       "    var(--pst-color-text-base, rgba(0, 0, 0, 0.54))\n",
       "  );\n",
       "  --xr-font-color3: var(\n",
       "    --jp-content-font-color3,\n",
       "    var(--pst-color-text-base, rgba(0, 0, 0, 0.38))\n",
       "  );\n",
       "  --xr-border-color: var(\n",
       "    --jp-border-color2,\n",
       "    hsl(from var(--pst-color-on-background, white) h s calc(l - 10))\n",
       "  );\n",
       "  --xr-disabled-color: var(\n",
       "    --jp-layout-color3,\n",
       "    hsl(from var(--pst-color-on-background, white) h s calc(l - 40))\n",
       "  );\n",
       "  --xr-background-color: var(\n",
       "    --jp-layout-color0,\n",
       "    var(--pst-color-on-background, white)\n",
       "  );\n",
       "  --xr-background-color-row-even: var(\n",
       "    --jp-layout-color1,\n",
       "    hsl(from var(--pst-color-on-background, white) h s calc(l - 5))\n",
       "  );\n",
       "  --xr-background-color-row-odd: var(\n",
       "    --jp-layout-color2,\n",
       "    hsl(from var(--pst-color-on-background, white) h s calc(l - 15))\n",
       "  );\n",
       "}\n",
       "\n",
       "html[theme=\"dark\"],\n",
       "html[data-theme=\"dark\"],\n",
       "body[data-theme=\"dark\"],\n",
       "body.vscode-dark {\n",
       "  --xr-font-color0: var(\n",
       "    --jp-content-font-color0,\n",
       "    var(--pst-color-text-base, rgba(255, 255, 255, 1))\n",
       "  );\n",
       "  --xr-font-color2: var(\n",
       "    --jp-content-font-color2,\n",
       "    var(--pst-color-text-base, rgba(255, 255, 255, 0.54))\n",
       "  );\n",
       "  --xr-font-color3: var(\n",
       "    --jp-content-font-color3,\n",
       "    var(--pst-color-text-base, rgba(255, 255, 255, 0.38))\n",
       "  );\n",
       "  --xr-border-color: var(\n",
       "    --jp-border-color2,\n",
       "    hsl(from var(--pst-color-on-background, #111111) h s calc(l + 10))\n",
       "  );\n",
       "  --xr-disabled-color: var(\n",
       "    --jp-layout-color3,\n",
       "    hsl(from var(--pst-color-on-background, #111111) h s calc(l + 40))\n",
       "  );\n",
       "  --xr-background-color: var(\n",
       "    --jp-layout-color0,\n",
       "    var(--pst-color-on-background, #111111)\n",
       "  );\n",
       "  --xr-background-color-row-even: var(\n",
       "    --jp-layout-color1,\n",
       "    hsl(from var(--pst-color-on-background, #111111) h s calc(l + 5))\n",
       "  );\n",
       "  --xr-background-color-row-odd: var(\n",
       "    --jp-layout-color2,\n",
       "    hsl(from var(--pst-color-on-background, #111111) h s calc(l + 15))\n",
       "  );\n",
       "}\n",
       "\n",
       ".xr-wrap {\n",
       "  display: block !important;\n",
       "  min-width: 300px;\n",
       "  max-width: 700px;\n",
       "}\n",
       "\n",
       ".xr-text-repr-fallback {\n",
       "  /* fallback to plain text repr when CSS is not injected (untrusted notebook) */\n",
       "  display: none;\n",
       "}\n",
       "\n",
       ".xr-header {\n",
       "  padding-top: 6px;\n",
       "  padding-bottom: 6px;\n",
       "  margin-bottom: 4px;\n",
       "  border-bottom: solid 1px var(--xr-border-color);\n",
       "}\n",
       "\n",
       ".xr-header > div,\n",
       ".xr-header > ul {\n",
       "  display: inline;\n",
       "  margin-top: 0;\n",
       "  margin-bottom: 0;\n",
       "}\n",
       "\n",
       ".xr-obj-type,\n",
       ".xr-array-name {\n",
       "  margin-left: 2px;\n",
       "  margin-right: 10px;\n",
       "}\n",
       "\n",
       ".xr-obj-type {\n",
       "  color: var(--xr-font-color2);\n",
       "}\n",
       "\n",
       ".xr-sections {\n",
       "  padding-left: 0 !important;\n",
       "  display: grid;\n",
       "  grid-template-columns: 150px auto auto 1fr 0 20px 0 20px;\n",
       "}\n",
       "\n",
       ".xr-section-item {\n",
       "  display: contents;\n",
       "}\n",
       "\n",
       ".xr-section-item input {\n",
       "  display: inline-block;\n",
       "  opacity: 0;\n",
       "  height: 0;\n",
       "}\n",
       "\n",
       ".xr-section-item input + label {\n",
       "  color: var(--xr-disabled-color);\n",
       "  border: 2px solid transparent !important;\n",
       "}\n",
       "\n",
       ".xr-section-item input:enabled + label {\n",
       "  cursor: pointer;\n",
       "  color: var(--xr-font-color2);\n",
       "}\n",
       "\n",
       ".xr-section-item input:focus + label {\n",
       "  border: 2px solid var(--xr-font-color0) !important;\n",
       "}\n",
       "\n",
       ".xr-section-item input:enabled + label:hover {\n",
       "  color: var(--xr-font-color0);\n",
       "}\n",
       "\n",
       ".xr-section-summary {\n",
       "  grid-column: 1;\n",
       "  color: var(--xr-font-color2);\n",
       "  font-weight: 500;\n",
       "}\n",
       "\n",
       ".xr-section-summary > span {\n",
       "  display: inline-block;\n",
       "  padding-left: 0.5em;\n",
       "}\n",
       "\n",
       ".xr-section-summary-in:disabled + label {\n",
       "  color: var(--xr-font-color2);\n",
       "}\n",
       "\n",
       ".xr-section-summary-in + label:before {\n",
       "  display: inline-block;\n",
       "  content: \"►\";\n",
       "  font-size: 11px;\n",
       "  width: 15px;\n",
       "  text-align: center;\n",
       "}\n",
       "\n",
       ".xr-section-summary-in:disabled + label:before {\n",
       "  color: var(--xr-disabled-color);\n",
       "}\n",
       "\n",
       ".xr-section-summary-in:checked + label:before {\n",
       "  content: \"▼\";\n",
       "}\n",
       "\n",
       ".xr-section-summary-in:checked + label > span {\n",
       "  display: none;\n",
       "}\n",
       "\n",
       ".xr-section-summary,\n",
       ".xr-section-inline-details {\n",
       "  padding-top: 4px;\n",
       "  padding-bottom: 4px;\n",
       "}\n",
       "\n",
       ".xr-section-inline-details {\n",
       "  grid-column: 2 / -1;\n",
       "}\n",
       "\n",
       ".xr-section-details {\n",
       "  display: none;\n",
       "  grid-column: 1 / -1;\n",
       "  margin-bottom: 5px;\n",
       "}\n",
       "\n",
       ".xr-section-summary-in:checked ~ .xr-section-details {\n",
       "  display: contents;\n",
       "}\n",
       "\n",
       ".xr-array-wrap {\n",
       "  grid-column: 1 / -1;\n",
       "  display: grid;\n",
       "  grid-template-columns: 20px auto;\n",
       "}\n",
       "\n",
       ".xr-array-wrap > label {\n",
       "  grid-column: 1;\n",
       "  vertical-align: top;\n",
       "}\n",
       "\n",
       ".xr-preview {\n",
       "  color: var(--xr-font-color3);\n",
       "}\n",
       "\n",
       ".xr-array-preview,\n",
       ".xr-array-data {\n",
       "  padding: 0 5px !important;\n",
       "  grid-column: 2;\n",
       "}\n",
       "\n",
       ".xr-array-data,\n",
       ".xr-array-in:checked ~ .xr-array-preview {\n",
       "  display: none;\n",
       "}\n",
       "\n",
       ".xr-array-in:checked ~ .xr-array-data,\n",
       ".xr-array-preview {\n",
       "  display: inline-block;\n",
       "}\n",
       "\n",
       ".xr-dim-list {\n",
       "  display: inline-block !important;\n",
       "  list-style: none;\n",
       "  padding: 0 !important;\n",
       "  margin: 0;\n",
       "}\n",
       "\n",
       ".xr-dim-list li {\n",
       "  display: inline-block;\n",
       "  padding: 0;\n",
       "  margin: 0;\n",
       "}\n",
       "\n",
       ".xr-dim-list:before {\n",
       "  content: \"(\";\n",
       "}\n",
       "\n",
       ".xr-dim-list:after {\n",
       "  content: \")\";\n",
       "}\n",
       "\n",
       ".xr-dim-list li:not(:last-child):after {\n",
       "  content: \",\";\n",
       "  padding-right: 5px;\n",
       "}\n",
       "\n",
       ".xr-has-index {\n",
       "  font-weight: bold;\n",
       "}\n",
       "\n",
       ".xr-var-list,\n",
       ".xr-var-item {\n",
       "  display: contents;\n",
       "}\n",
       "\n",
       ".xr-var-item > div,\n",
       ".xr-var-item label,\n",
       ".xr-var-item > .xr-var-name span {\n",
       "  background-color: var(--xr-background-color-row-even);\n",
       "  border-color: var(--xr-background-color-row-odd);\n",
       "  margin-bottom: 0;\n",
       "  padding-top: 2px;\n",
       "}\n",
       "\n",
       ".xr-var-item > .xr-var-name:hover span {\n",
       "  padding-right: 5px;\n",
       "}\n",
       "\n",
       ".xr-var-list > li:nth-child(odd) > div,\n",
       ".xr-var-list > li:nth-child(odd) > label,\n",
       ".xr-var-list > li:nth-child(odd) > .xr-var-name span {\n",
       "  background-color: var(--xr-background-color-row-odd);\n",
       "  border-color: var(--xr-background-color-row-even);\n",
       "}\n",
       "\n",
       ".xr-var-name {\n",
       "  grid-column: 1;\n",
       "}\n",
       "\n",
       ".xr-var-dims {\n",
       "  grid-column: 2;\n",
       "}\n",
       "\n",
       ".xr-var-dtype {\n",
       "  grid-column: 3;\n",
       "  text-align: right;\n",
       "  color: var(--xr-font-color2);\n",
       "}\n",
       "\n",
       ".xr-var-preview {\n",
       "  grid-column: 4;\n",
       "}\n",
       "\n",
       ".xr-index-preview {\n",
       "  grid-column: 2 / 5;\n",
       "  color: var(--xr-font-color2);\n",
       "}\n",
       "\n",
       ".xr-var-name,\n",
       ".xr-var-dims,\n",
       ".xr-var-dtype,\n",
       ".xr-preview,\n",
       ".xr-attrs dt {\n",
       "  white-space: nowrap;\n",
       "  overflow: hidden;\n",
       "  text-overflow: ellipsis;\n",
       "  padding-right: 10px;\n",
       "}\n",
       "\n",
       ".xr-var-name:hover,\n",
       ".xr-var-dims:hover,\n",
       ".xr-var-dtype:hover,\n",
       ".xr-attrs dt:hover {\n",
       "  overflow: visible;\n",
       "  width: auto;\n",
       "  z-index: 1;\n",
       "}\n",
       "\n",
       ".xr-var-attrs,\n",
       ".xr-var-data,\n",
       ".xr-index-data {\n",
       "  display: none;\n",
       "  border-top: 2px dotted var(--xr-background-color);\n",
       "  padding-bottom: 20px !important;\n",
       "  padding-top: 10px !important;\n",
       "}\n",
       "\n",
       ".xr-var-attrs-in + label,\n",
       ".xr-var-data-in + label,\n",
       ".xr-index-data-in + label {\n",
       "  padding: 0 1px;\n",
       "}\n",
       "\n",
       ".xr-var-attrs-in:checked ~ .xr-var-attrs,\n",
       ".xr-var-data-in:checked ~ .xr-var-data,\n",
       ".xr-index-data-in:checked ~ .xr-index-data {\n",
       "  display: block;\n",
       "}\n",
       "\n",
       ".xr-var-data > table {\n",
       "  float: right;\n",
       "}\n",
       "\n",
       ".xr-var-data > pre,\n",
       ".xr-index-data > pre,\n",
       ".xr-var-data > table > tbody > tr {\n",
       "  background-color: transparent !important;\n",
       "}\n",
       "\n",
       ".xr-var-name span,\n",
       ".xr-var-data,\n",
       ".xr-index-name div,\n",
       ".xr-index-data,\n",
       ".xr-attrs {\n",
       "  padding-left: 25px !important;\n",
       "}\n",
       "\n",
       ".xr-attrs,\n",
       ".xr-var-attrs,\n",
       ".xr-var-data,\n",
       ".xr-index-data {\n",
       "  grid-column: 1 / -1;\n",
       "}\n",
       "\n",
       "dl.xr-attrs {\n",
       "  padding: 0;\n",
       "  margin: 0;\n",
       "  display: grid;\n",
       "  grid-template-columns: 125px auto;\n",
       "}\n",
       "\n",
       ".xr-attrs dt,\n",
       ".xr-attrs dd {\n",
       "  padding: 0;\n",
       "  margin: 0;\n",
       "  float: left;\n",
       "  padding-right: 10px;\n",
       "  width: auto;\n",
       "}\n",
       "\n",
       ".xr-attrs dt {\n",
       "  font-weight: normal;\n",
       "  grid-column: 1;\n",
       "}\n",
       "\n",
       ".xr-attrs dt:hover span {\n",
       "  display: inline-block;\n",
       "  background: var(--xr-background-color);\n",
       "  padding-right: 10px;\n",
       "}\n",
       "\n",
       ".xr-attrs dd {\n",
       "  grid-column: 2;\n",
       "  white-space: pre-wrap;\n",
       "  word-break: break-all;\n",
       "}\n",
       "\n",
       ".xr-icon-database,\n",
       ".xr-icon-file-text2,\n",
       ".xr-no-icon {\n",
       "  display: inline-block;\n",
       "  vertical-align: middle;\n",
       "  width: 1em;\n",
       "  height: 1.5em !important;\n",
       "  stroke-width: 0;\n",
       "  stroke: currentColor;\n",
       "  fill: currentColor;\n",
       "}\n",
       "\n",
       ".xr-var-attrs-in:checked + label > .xr-icon-file-text2,\n",
       ".xr-var-data-in:checked + label > .xr-icon-database,\n",
       ".xr-index-data-in:checked + label > .xr-icon-database {\n",
       "  color: var(--xr-font-color0);\n",
       "  filter: drop-shadow(1px 1px 5px var(--xr-font-color2));\n",
       "  stroke-width: 0.8px;\n",
       "}\n",
       "</style><pre class='xr-text-repr-fallback'>&lt;xarray.DiffractionDataArray (orders_x: 1, orders_y: 1, f: 301)&gt; Size: 5kB\n",
       "array([[[-0.-0.j, -0.-0.j, -0.-0.j, -0.-0.j, -0.-0.j, -0.-0.j, -0.-0.j,\n",
       "         -0.-0.j, -0.-0.j, -0.-0.j, -0.-0.j, -0.-0.j, -0.-0.j, -0.-0.j,\n",
       "         -0.-0.j, -0.-0.j, -0.-0.j, -0.-0.j, -0.-0.j, -0.-0.j, -0.-0.j,\n",
       "         -0.-0.j, -0.-0.j, -0.-0.j, -0.-0.j, -0.-0.j, -0.-0.j, -0.-0.j,\n",
       "         -0.-0.j, -0.-0.j, -0.-0.j, -0.+0.j, -0.+0.j, -0.+0.j, -0.+0.j,\n",
       "         -0.+0.j, -0.+0.j, -0.+0.j, -0.+0.j, -0.+0.j, -0.+0.j, -0.+0.j,\n",
       "         -0.+0.j, -0.+0.j, -0.+0.j, -0.+0.j, -0.+0.j, -0.+0.j, -0.+0.j,\n",
       "         -0.+0.j, -0.+0.j, -0.+0.j, -0.+0.j, -0.+0.j,  0.+0.j,  0.+0.j,\n",
       "          0.+0.j,  0.+0.j,  0.+0.j,  0.+0.j,  0.+0.j,  0.+0.j,  0.+0.j,\n",
       "          0.+0.j,  0.+0.j,  0.+0.j,  0.+0.j,  0.+0.j,  0.+0.j,  0.+0.j,\n",
       "          0.+0.j,  0.+0.j,  0.+0.j,  0.+0.j,  0.+0.j,  0.+0.j,  0.+0.j,\n",
       "          0.+0.j,  0.+0.j,  0.+0.j,  0.+0.j,  0.+0.j,  0.+0.j,  0.+0.j,\n",
       "          0.+0.j,  0.+0.j,  0.+0.j,  0.+0.j,  0.+0.j,  0.+0.j,  0.+0.j,\n",
       "          0.+0.j,  0.+0.j,  0.+0.j,  0.+0.j,  0.+0.j,  0.+0.j,  0.+0.j,\n",
       "          0.+0.j,  0.+0.j,  0.+0.j,  0.+0.j,  0.+0.j,  0.+0.j,  0.+0.j,\n",
       "          0.+0.j,  0.+0.j,  0.+0.j,  0.+0.j,  0.+0.j,  0.+0.j,  0.+0.j,\n",
       "          0.+0.j,  0.+0.j,  0.+0.j,  0.+0.j,  0.+0.j,  0.+0.j,  0.+0.j,\n",
       "          0.+0.j,  0.+0.j,  0.+0.j,  0.+0.j,  0.-0.j,  0.-0.j,  0.-0.j,\n",
       "          0.-0.j,  0.-0.j,  0.-0.j,  0.-0.j,  0.-0.j,  0.-0.j,  0.-0.j,\n",
       "          0.-0.j,  0.-0.j,  0.-0.j,  0.-0.j,  0.-0.j,  0.-0.j,  0.-0.j,\n",
       "...\n",
       "         -0.-0.j, -0.-0.j, -0.-0.j, -0.-0.j, -0.-0.j, -0.-0.j, -0.-0.j,\n",
       "         -0.-0.j, -0.-0.j, -0.-0.j, -0.-0.j, -0.-0.j, -0.-0.j, -0.-0.j,\n",
       "         -0.-0.j, -0.-0.j, -0.-0.j, -0.-0.j, -0.-0.j, -0.-0.j, -0.-0.j,\n",
       "         -0.-0.j, -0.-0.j, -0.-0.j, -0.-0.j, -0.-0.j, -0.-0.j, -0.-0.j,\n",
       "         -0.-0.j, -0.-0.j, -0.-0.j, -0.-0.j, -0.-0.j, -0.-0.j, -0.-0.j,\n",
       "         -0.-0.j, -0.-0.j, -0.-0.j, -0.-0.j, -0.-0.j, -0.-0.j, -0.-0.j,\n",
       "         -0.-0.j, -0.-0.j, -0.-0.j, -0.-0.j, -0.-0.j, -0.-0.j, -0.-0.j,\n",
       "         -0.-0.j, -0.-0.j, -0.-0.j, -0.-0.j, -0.-0.j, -0.-0.j, -0.+0.j,\n",
       "         -0.+0.j, -0.+0.j, -0.+0.j, -0.+0.j, -0.+0.j, -0.+0.j, -0.+0.j,\n",
       "         -0.+0.j, -0.+0.j, -0.+0.j, -0.+0.j, -0.+0.j, -0.+0.j, -0.+0.j,\n",
       "         -0.+0.j, -0.+0.j, -0.+0.j, -0.+0.j, -0.+0.j, -0.+0.j, -0.+0.j,\n",
       "         -0.+0.j,  0.+0.j,  0.+0.j,  0.+0.j,  0.+0.j,  0.+0.j,  0.+0.j,\n",
       "          0.+0.j,  0.+0.j,  0.+0.j,  0.+0.j,  0.+0.j,  0.+0.j,  0.+0.j,\n",
       "          0.+0.j,  0.+0.j,  0.+0.j,  0.+0.j,  0.+0.j,  0.+0.j,  0.+0.j,\n",
       "          0.+0.j,  0.+0.j,  0.+0.j,  0.+0.j,  0.+0.j,  0.+0.j,  0.+0.j,\n",
       "          0.+0.j,  0.+0.j,  0.+0.j,  0.+0.j,  0.+0.j,  0.+0.j,  0.+0.j,\n",
       "          0.+0.j,  0.+0.j,  0.+0.j,  0.+0.j,  0.+0.j,  0.+0.j,  0.+0.j,\n",
       "          0.+0.j,  0.+0.j,  0.+0.j,  0.+0.j,  0.+0.j,  0.+0.j,  0.+0.j,\n",
       "          0.+0.j,  0.+0.j,  0.+0.j,  0.+0.j,  0.+0.j,  0.+0.j,  0.+0.j,\n",
       "          0.+0.j,  0.+0.j,  0.+0.j,  0.+0.j,  0.+0.j,  0.+0.j,  0.+0.j]]])\n",
       "Coordinates:\n",
       "  * orders_x  (orders_x) int64 8B 0\n",
       "  * orders_y  (orders_y) int64 8B 0\n",
       "  * f         (f) float64 2kB 1.874e+14 1.877e+14 ... 2.723e+14 2.725e+14\n",
       "Attributes:\n",
       "    long_name:  diffraction amplitude</pre><div class='xr-wrap' style='display:none'><div class='xr-header'><div class='xr-obj-type'>xarray.DiffractionDataArray</div><div class='xr-array-name'></div><ul class='xr-dim-list'><li><span class='xr-has-index'>orders_x</span>: 1</li><li><span class='xr-has-index'>orders_y</span>: 1</li><li><span class='xr-has-index'>f</span>: 301</li></ul></div><ul class='xr-sections'><li class='xr-section-item'><div class='xr-array-wrap'><input id='section-46809d09-941b-45c5-9ae5-f53bb0913b84' class='xr-array-in' type='checkbox' checked><label for='section-46809d09-941b-45c5-9ae5-f53bb0913b84' title='Show/hide data repr'><svg class='icon xr-icon-database'><use xlink:href='#icon-database'></use></svg></label><div class='xr-array-preview xr-preview'><span>(-0-0j) (-0-0j) (-0-0j) (-0-0j) (-0-0j) (-0-0j) ... 0j 0j 0j 0j 0j 0j</span></div><div class='xr-array-data'><pre>array([[[-0.-0.j, -0.-0.j, -0.-0.j, -0.-0.j, -0.-0.j, -0.-0.j, -0.-0.j,\n",
       "         -0.-0.j, -0.-0.j, -0.-0.j, -0.-0.j, -0.-0.j, -0.-0.j, -0.-0.j,\n",
       "         -0.-0.j, -0.-0.j, -0.-0.j, -0.-0.j, -0.-0.j, -0.-0.j, -0.-0.j,\n",
       "         -0.-0.j, -0.-0.j, -0.-0.j, -0.-0.j, -0.-0.j, -0.-0.j, -0.-0.j,\n",
       "         -0.-0.j, -0.-0.j, -0.-0.j, -0.+0.j, -0.+0.j, -0.+0.j, -0.+0.j,\n",
       "         -0.+0.j, -0.+0.j, -0.+0.j, -0.+0.j, -0.+0.j, -0.+0.j, -0.+0.j,\n",
       "         -0.+0.j, -0.+0.j, -0.+0.j, -0.+0.j, -0.+0.j, -0.+0.j, -0.+0.j,\n",
       "         -0.+0.j, -0.+0.j, -0.+0.j, -0.+0.j, -0.+0.j,  0.+0.j,  0.+0.j,\n",
       "          0.+0.j,  0.+0.j,  0.+0.j,  0.+0.j,  0.+0.j,  0.+0.j,  0.+0.j,\n",
       "          0.+0.j,  0.+0.j,  0.+0.j,  0.+0.j,  0.+0.j,  0.+0.j,  0.+0.j,\n",
       "          0.+0.j,  0.+0.j,  0.+0.j,  0.+0.j,  0.+0.j,  0.+0.j,  0.+0.j,\n",
       "          0.+0.j,  0.+0.j,  0.+0.j,  0.+0.j,  0.+0.j,  0.+0.j,  0.+0.j,\n",
       "          0.+0.j,  0.+0.j,  0.+0.j,  0.+0.j,  0.+0.j,  0.+0.j,  0.+0.j,\n",
       "          0.+0.j,  0.+0.j,  0.+0.j,  0.+0.j,  0.+0.j,  0.+0.j,  0.+0.j,\n",
       "          0.+0.j,  0.+0.j,  0.+0.j,  0.+0.j,  0.+0.j,  0.+0.j,  0.+0.j,\n",
       "          0.+0.j,  0.+0.j,  0.+0.j,  0.+0.j,  0.+0.j,  0.+0.j,  0.+0.j,\n",
       "          0.+0.j,  0.+0.j,  0.+0.j,  0.+0.j,  0.+0.j,  0.+0.j,  0.+0.j,\n",
       "          0.+0.j,  0.+0.j,  0.+0.j,  0.+0.j,  0.-0.j,  0.-0.j,  0.-0.j,\n",
       "          0.-0.j,  0.-0.j,  0.-0.j,  0.-0.j,  0.-0.j,  0.-0.j,  0.-0.j,\n",
       "          0.-0.j,  0.-0.j,  0.-0.j,  0.-0.j,  0.-0.j,  0.-0.j,  0.-0.j,\n",
       "...\n",
       "         -0.-0.j, -0.-0.j, -0.-0.j, -0.-0.j, -0.-0.j, -0.-0.j, -0.-0.j,\n",
       "         -0.-0.j, -0.-0.j, -0.-0.j, -0.-0.j, -0.-0.j, -0.-0.j, -0.-0.j,\n",
       "         -0.-0.j, -0.-0.j, -0.-0.j, -0.-0.j, -0.-0.j, -0.-0.j, -0.-0.j,\n",
       "         -0.-0.j, -0.-0.j, -0.-0.j, -0.-0.j, -0.-0.j, -0.-0.j, -0.-0.j,\n",
       "         -0.-0.j, -0.-0.j, -0.-0.j, -0.-0.j, -0.-0.j, -0.-0.j, -0.-0.j,\n",
       "         -0.-0.j, -0.-0.j, -0.-0.j, -0.-0.j, -0.-0.j, -0.-0.j, -0.-0.j,\n",
       "         -0.-0.j, -0.-0.j, -0.-0.j, -0.-0.j, -0.-0.j, -0.-0.j, -0.-0.j,\n",
       "         -0.-0.j, -0.-0.j, -0.-0.j, -0.-0.j, -0.-0.j, -0.-0.j, -0.+0.j,\n",
       "         -0.+0.j, -0.+0.j, -0.+0.j, -0.+0.j, -0.+0.j, -0.+0.j, -0.+0.j,\n",
       "         -0.+0.j, -0.+0.j, -0.+0.j, -0.+0.j, -0.+0.j, -0.+0.j, -0.+0.j,\n",
       "         -0.+0.j, -0.+0.j, -0.+0.j, -0.+0.j, -0.+0.j, -0.+0.j, -0.+0.j,\n",
       "         -0.+0.j,  0.+0.j,  0.+0.j,  0.+0.j,  0.+0.j,  0.+0.j,  0.+0.j,\n",
       "          0.+0.j,  0.+0.j,  0.+0.j,  0.+0.j,  0.+0.j,  0.+0.j,  0.+0.j,\n",
       "          0.+0.j,  0.+0.j,  0.+0.j,  0.+0.j,  0.+0.j,  0.+0.j,  0.+0.j,\n",
       "          0.+0.j,  0.+0.j,  0.+0.j,  0.+0.j,  0.+0.j,  0.+0.j,  0.+0.j,\n",
       "          0.+0.j,  0.+0.j,  0.+0.j,  0.+0.j,  0.+0.j,  0.+0.j,  0.+0.j,\n",
       "          0.+0.j,  0.+0.j,  0.+0.j,  0.+0.j,  0.+0.j,  0.+0.j,  0.+0.j,\n",
       "          0.+0.j,  0.+0.j,  0.+0.j,  0.+0.j,  0.+0.j,  0.+0.j,  0.+0.j,\n",
       "          0.+0.j,  0.+0.j,  0.+0.j,  0.+0.j,  0.+0.j,  0.+0.j,  0.+0.j,\n",
       "          0.+0.j,  0.+0.j,  0.+0.j,  0.+0.j,  0.+0.j,  0.+0.j,  0.+0.j]]])</pre></div></div></li><li class='xr-section-item'><input id='section-59d842ac-4dee-4fb7-9291-3cf606177c84' class='xr-section-summary-in' type='checkbox'  checked><label for='section-59d842ac-4dee-4fb7-9291-3cf606177c84' class='xr-section-summary' >Coordinates: <span>(3)</span></label><div class='xr-section-inline-details'></div><div class='xr-section-details'><ul class='xr-var-list'><li class='xr-var-item'><div class='xr-var-name'><span class='xr-has-index'>orders_x</span></div><div class='xr-var-dims'>(orders_x)</div><div class='xr-var-dtype'>int64</div><div class='xr-var-preview xr-preview'>0</div><input id='attrs-b762b800-ba5e-43a7-af0b-235d1dd82621' class='xr-var-attrs-in' type='checkbox' ><label for='attrs-b762b800-ba5e-43a7-af0b-235d1dd82621' title='Show/Hide attributes'><svg class='icon xr-icon-file-text2'><use xlink:href='#icon-file-text2'></use></svg></label><input id='data-a0b36cd1-b6aa-4aaf-b8c3-62a0e13f33f9' class='xr-var-data-in' type='checkbox'><label for='data-a0b36cd1-b6aa-4aaf-b8c3-62a0e13f33f9' title='Show/Hide data repr'><svg class='icon xr-icon-database'><use xlink:href='#icon-database'></use></svg></label><div class='xr-var-attrs'><dl class='xr-attrs'><dt><span>long_name :</span></dt><dd>diffraction order</dd></dl></div><div class='xr-var-data'><pre>array([0])</pre></div></li><li class='xr-var-item'><div class='xr-var-name'><span class='xr-has-index'>orders_y</span></div><div class='xr-var-dims'>(orders_y)</div><div class='xr-var-dtype'>int64</div><div class='xr-var-preview xr-preview'>0</div><input id='attrs-f65c0c6c-9e05-4c3a-952d-af513cb7fa88' class='xr-var-attrs-in' type='checkbox' ><label for='attrs-f65c0c6c-9e05-4c3a-952d-af513cb7fa88' title='Show/Hide attributes'><svg class='icon xr-icon-file-text2'><use xlink:href='#icon-file-text2'></use></svg></label><input id='data-91725ba3-fba5-4568-84e4-33c2cb7894d9' class='xr-var-data-in' type='checkbox'><label for='data-91725ba3-fba5-4568-84e4-33c2cb7894d9' title='Show/Hide data repr'><svg class='icon xr-icon-database'><use xlink:href='#icon-database'></use></svg></label><div class='xr-var-attrs'><dl class='xr-attrs'><dt><span>long_name :</span></dt><dd>diffraction order</dd></dl></div><div class='xr-var-data'><pre>array([0])</pre></div></li><li class='xr-var-item'><div class='xr-var-name'><span class='xr-has-index'>f</span></div><div class='xr-var-dims'>(f)</div><div class='xr-var-dtype'>float64</div><div class='xr-var-preview xr-preview'>1.874e+14 1.877e+14 ... 2.725e+14</div><input id='attrs-d1b8a7b7-82a0-4572-87e3-9f869cef45ed' class='xr-var-attrs-in' type='checkbox' ><label for='attrs-d1b8a7b7-82a0-4572-87e3-9f869cef45ed' title='Show/Hide attributes'><svg class='icon xr-icon-file-text2'><use xlink:href='#icon-file-text2'></use></svg></label><input id='data-1f6529ea-7c1b-4f68-8450-81fb1260f724' class='xr-var-data-in' type='checkbox'><label for='data-1f6529ea-7c1b-4f68-8450-81fb1260f724' title='Show/Hide data repr'><svg class='icon xr-icon-database'><use xlink:href='#icon-database'></use></svg></label><div class='xr-var-attrs'><dl class='xr-attrs'><dt><span>units :</span></dt><dd>Hz</dd><dt><span>long_name :</span></dt><dd>frequency</dd></dl></div><div class='xr-var-data'><pre>array([1.873703e+14, 1.876542e+14, 1.879381e+14, ..., 2.719708e+14,\n",
       "       2.722547e+14, 2.725386e+14])</pre></div></li></ul></div></li><li class='xr-section-item'><input id='section-dfa0e447-4541-45ff-a40b-af45edd49079' class='xr-section-summary-in' type='checkbox'  ><label for='section-dfa0e447-4541-45ff-a40b-af45edd49079' class='xr-section-summary' >Indexes: <span>(3)</span></label><div class='xr-section-inline-details'></div><div class='xr-section-details'><ul class='xr-var-list'><li class='xr-var-item'><div class='xr-index-name'><div>orders_x</div></div><div class='xr-index-preview'>PandasIndex</div><input type='checkbox' disabled/><label></label><input id='index-f09daeb9-3cf8-4c5c-99e2-312d825637b4' class='xr-index-data-in' type='checkbox'/><label for='index-f09daeb9-3cf8-4c5c-99e2-312d825637b4' title='Show/Hide index repr'><svg class='icon xr-icon-database'><use xlink:href='#icon-database'></use></svg></label><div class='xr-index-data'><pre>PandasIndex(Index([0], dtype=&#x27;int64&#x27;, name=&#x27;orders_x&#x27;))</pre></div></li><li class='xr-var-item'><div class='xr-index-name'><div>orders_y</div></div><div class='xr-index-preview'>PandasIndex</div><input type='checkbox' disabled/><label></label><input id='index-81e5ca20-04f7-46f8-a798-8bc6b35d6b7a' class='xr-index-data-in' type='checkbox'/><label for='index-81e5ca20-04f7-46f8-a798-8bc6b35d6b7a' title='Show/Hide index repr'><svg class='icon xr-icon-database'><use xlink:href='#icon-database'></use></svg></label><div class='xr-index-data'><pre>PandasIndex(Index([0], dtype=&#x27;int64&#x27;, name=&#x27;orders_y&#x27;))</pre></div></li><li class='xr-var-item'><div class='xr-index-name'><div>f</div></div><div class='xr-index-preview'>PandasIndex</div><input type='checkbox' disabled/><label></label><input id='index-e8fbd0be-9d05-42fb-b1be-54ce1647b130' class='xr-index-data-in' type='checkbox'/><label for='index-e8fbd0be-9d05-42fb-b1be-54ce1647b130' title='Show/Hide index repr'><svg class='icon xr-icon-database'><use xlink:href='#icon-database'></use></svg></label><div class='xr-index-data'><pre>PandasIndex(Index([ 187370286250000.0, 187654180623106.06, 187938074996212.12,\n",
       "        188221969369318.2, 188505863742424.25,  188789758115530.3,\n",
       "       189073652488636.38, 189357546861742.44, 189641441234848.47,\n",
       "       189925335607954.53,\n",
       "       ...\n",
       "       269983548823863.56, 270267443196969.62,  270551337570075.7,\n",
       "       270835231943181.75,  271119126316287.8, 271403020689393.88,\n",
       "       271686915062499.94,  271970809435606.0, 272254703808712.06,\n",
       "       272538598181818.12],\n",
       "      dtype=&#x27;float64&#x27;, name=&#x27;f&#x27;, length=301))</pre></div></li></ul></div></li><li class='xr-section-item'><input id='section-75d9e1ad-a34f-4776-9831-7bdf0108ab46' class='xr-section-summary-in' type='checkbox'  checked><label for='section-75d9e1ad-a34f-4776-9831-7bdf0108ab46' class='xr-section-summary' >Attributes: <span>(1)</span></label><div class='xr-section-inline-details'></div><div class='xr-section-details'><dl class='xr-attrs'><dt><span>long_name :</span></dt><dd>diffraction amplitude</dd></dl></div></li></ul></div></div>"
      ],
      "text/plain": [
       "<xarray.DiffractionDataArray (orders_x: 1, orders_y: 1, f: 301)> Size: 5kB\n",
       "array([[[-0.-0.j, -0.-0.j, -0.-0.j, -0.-0.j, -0.-0.j, -0.-0.j, -0.-0.j,\n",
       "         -0.-0.j, -0.-0.j, -0.-0.j, -0.-0.j, -0.-0.j, -0.-0.j, -0.-0.j,\n",
       "         -0.-0.j, -0.-0.j, -0.-0.j, -0.-0.j, -0.-0.j, -0.-0.j, -0.-0.j,\n",
       "         -0.-0.j, -0.-0.j, -0.-0.j, -0.-0.j, -0.-0.j, -0.-0.j, -0.-0.j,\n",
       "         -0.-0.j, -0.-0.j, -0.-0.j, -0.+0.j, -0.+0.j, -0.+0.j, -0.+0.j,\n",
       "         -0.+0.j, -0.+0.j, -0.+0.j, -0.+0.j, -0.+0.j, -0.+0.j, -0.+0.j,\n",
       "         -0.+0.j, -0.+0.j, -0.+0.j, -0.+0.j, -0.+0.j, -0.+0.j, -0.+0.j,\n",
       "         -0.+0.j, -0.+0.j, -0.+0.j, -0.+0.j, -0.+0.j,  0.+0.j,  0.+0.j,\n",
       "          0.+0.j,  0.+0.j,  0.+0.j,  0.+0.j,  0.+0.j,  0.+0.j,  0.+0.j,\n",
       "          0.+0.j,  0.+0.j,  0.+0.j,  0.+0.j,  0.+0.j,  0.+0.j,  0.+0.j,\n",
       "          0.+0.j,  0.+0.j,  0.+0.j,  0.+0.j,  0.+0.j,  0.+0.j,  0.+0.j,\n",
       "          0.+0.j,  0.+0.j,  0.+0.j,  0.+0.j,  0.+0.j,  0.+0.j,  0.+0.j,\n",
       "          0.+0.j,  0.+0.j,  0.+0.j,  0.+0.j,  0.+0.j,  0.+0.j,  0.+0.j,\n",
       "          0.+0.j,  0.+0.j,  0.+0.j,  0.+0.j,  0.+0.j,  0.+0.j,  0.+0.j,\n",
       "          0.+0.j,  0.+0.j,  0.+0.j,  0.+0.j,  0.+0.j,  0.+0.j,  0.+0.j,\n",
       "          0.+0.j,  0.+0.j,  0.+0.j,  0.+0.j,  0.+0.j,  0.+0.j,  0.+0.j,\n",
       "          0.+0.j,  0.+0.j,  0.+0.j,  0.+0.j,  0.+0.j,  0.+0.j,  0.+0.j,\n",
       "          0.+0.j,  0.+0.j,  0.+0.j,  0.+0.j,  0.-0.j,  0.-0.j,  0.-0.j,\n",
       "          0.-0.j,  0.-0.j,  0.-0.j,  0.-0.j,  0.-0.j,  0.-0.j,  0.-0.j,\n",
       "          0.-0.j,  0.-0.j,  0.-0.j,  0.-0.j,  0.-0.j,  0.-0.j,  0.-0.j,\n",
       "...\n",
       "         -0.-0.j, -0.-0.j, -0.-0.j, -0.-0.j, -0.-0.j, -0.-0.j, -0.-0.j,\n",
       "         -0.-0.j, -0.-0.j, -0.-0.j, -0.-0.j, -0.-0.j, -0.-0.j, -0.-0.j,\n",
       "         -0.-0.j, -0.-0.j, -0.-0.j, -0.-0.j, -0.-0.j, -0.-0.j, -0.-0.j,\n",
       "         -0.-0.j, -0.-0.j, -0.-0.j, -0.-0.j, -0.-0.j, -0.-0.j, -0.-0.j,\n",
       "         -0.-0.j, -0.-0.j, -0.-0.j, -0.-0.j, -0.-0.j, -0.-0.j, -0.-0.j,\n",
       "         -0.-0.j, -0.-0.j, -0.-0.j, -0.-0.j, -0.-0.j, -0.-0.j, -0.-0.j,\n",
       "         -0.-0.j, -0.-0.j, -0.-0.j, -0.-0.j, -0.-0.j, -0.-0.j, -0.-0.j,\n",
       "         -0.-0.j, -0.-0.j, -0.-0.j, -0.-0.j, -0.-0.j, -0.-0.j, -0.+0.j,\n",
       "         -0.+0.j, -0.+0.j, -0.+0.j, -0.+0.j, -0.+0.j, -0.+0.j, -0.+0.j,\n",
       "         -0.+0.j, -0.+0.j, -0.+0.j, -0.+0.j, -0.+0.j, -0.+0.j, -0.+0.j,\n",
       "         -0.+0.j, -0.+0.j, -0.+0.j, -0.+0.j, -0.+0.j, -0.+0.j, -0.+0.j,\n",
       "         -0.+0.j,  0.+0.j,  0.+0.j,  0.+0.j,  0.+0.j,  0.+0.j,  0.+0.j,\n",
       "          0.+0.j,  0.+0.j,  0.+0.j,  0.+0.j,  0.+0.j,  0.+0.j,  0.+0.j,\n",
       "          0.+0.j,  0.+0.j,  0.+0.j,  0.+0.j,  0.+0.j,  0.+0.j,  0.+0.j,\n",
       "          0.+0.j,  0.+0.j,  0.+0.j,  0.+0.j,  0.+0.j,  0.+0.j,  0.+0.j,\n",
       "          0.+0.j,  0.+0.j,  0.+0.j,  0.+0.j,  0.+0.j,  0.+0.j,  0.+0.j,\n",
       "          0.+0.j,  0.+0.j,  0.+0.j,  0.+0.j,  0.+0.j,  0.+0.j,  0.+0.j,\n",
       "          0.+0.j,  0.+0.j,  0.+0.j,  0.+0.j,  0.+0.j,  0.+0.j,  0.+0.j,\n",
       "          0.+0.j,  0.+0.j,  0.+0.j,  0.+0.j,  0.+0.j,  0.+0.j,  0.+0.j,\n",
       "          0.+0.j,  0.+0.j,  0.+0.j,  0.+0.j,  0.+0.j,  0.+0.j,  0.+0.j]]])\n",
       "Coordinates:\n",
       "  * orders_x  (orders_x) int64 8B 0\n",
       "  * orders_y  (orders_y) int64 8B 0\n",
       "  * f         (f) float64 2kB 1.874e+14 1.877e+14 ... 2.723e+14 2.725e+14\n",
       "Attributes:\n",
       "    long_name:  diffraction amplitude"
      ]
     },
     "execution_count": 42,
     "metadata": {},
     "output_type": "execute_result"
    }
   ],
   "source": [
    "dD.Er"
   ]
  },
  {
   "cell_type": "code",
   "execution_count": null,
   "id": "6aa19084",
   "metadata": {},
   "outputs": [
    {
     "data": {
      "text/plain": [
       "oxide"
      ]
     },
     "execution_count": 43,
     "metadata": {},
     "output_type": "execute_result"
    }
   ],
   "source": [
    "print(dD.medium) "
   ]
  },
  {
   "cell_type": "code",
   "execution_count": 46,
   "id": "1ebb026c",
   "metadata": {},
   "outputs": [],
   "source": [
    "power = np.array(dD.power[0][0])"
   ]
  },
  {
   "cell_type": "code",
   "execution_count": 212,
   "id": "093afd9d",
   "metadata": {},
   "outputs": [
    {
     "data": {
      "image/png": "[encoded data removed]",
      "text/plain": [
       "<Figure size 600x450 with 1 Axes>"
      ]
     },
     "metadata": {},
     "output_type": "display_data"
    }
   ],
   "source": [
    "# plot transmission, compare to paper results, look similar\n",
    "fig, ax = plt.subplots(1, 1, figsize=(6, 4.5))\n",
    "plt.plot(td.C_0 / fr.freqs(N) * 1000, power / norm_power, \"r\", lw=1, label=\"T\")\n",
    "plt.xlabel(r\"wavelength ($nm$)\")\n",
    "plt.ylabel(\"Power\")\n",
    "plt.ylim(0, 1)\n",
    "plt.legend()\n",
    "plt.savefig(\"power\", dpi=300)\n",
    "plt.show()"
   ]
  },
  {
   "cell_type": "code",
   "execution_count": 64,
   "id": "3126cdd6",
   "metadata": {},
   "outputs": [
    {
     "name": "stdout",
     "output_type": "stream",
     "text": [
      "(301,)\n"
     ]
    }
   ],
   "source": [
    "amps = np.array(dD.amps[0][0][:,0])\n",
    "print(amps.shape)"
   ]
  },
  {
   "cell_type": "code",
   "execution_count": null,
   "id": "b9d577f8",
   "metadata": {},
   "outputs": [
    {
     "name": "stdout",
     "output_type": "stream",
     "text": [
      "                                                0                   1\n",
      "0 -7.477880e-09-8.372133e-                    10j  0.400083+0.860127j\n",
      "1 -7.466276e-09-2.064935e-                    09j  0.385044+0.867238j\n",
      "2 -7.082986e-09-3.138136e-                    09j  0.369848+0.874091j\n",
      "3 -6.485964e-09-3.902346e-                    09j  0.354497+0.880677j\n",
      "4 -5.897012e-09-4.333861e-                    09j  0.339016+0.886985j\n"
     ]
    }
   ],
   "source": [
    "import pandas as pd\n",
    "# this uses scienceplots to make plots look better\n",
    "plt.style.use(['science', 'notebook', 'grid'])\n",
    "print(pd.DataFrame(amps[0][0]).head())"
   ]
  },
  {
   "cell_type": "markdown",
   "id": "49e617ce",
   "metadata": {},
   "source": [
    "## Phase"
   ]
  },
  {
   "cell_type": "code",
   "execution_count": 74,
   "id": "669861ab",
   "metadata": {},
   "outputs": [],
   "source": [
    "phase = np.unwrap(np.angle(amps))"
   ]
  },
  {
   "cell_type": "code",
   "execution_count": 163,
   "id": "8fc5b6b6",
   "metadata": {},
   "outputs": [],
   "source": [
    "new_amps = batch_data[\"actual\"][\"diffraction_monitor\"].amps"
   ]
  },
  {
   "cell_type": "code",
   "execution_count": 197,
   "id": "2bf78099",
   "metadata": {},
   "outputs": [],
   "source": [
    "monitor = td.DiffractionMonitor(\n",
    "    center=(0, 0, -Lz/2 + spc - (td.C_0 / fr.freq0)),\n",
    "    size=(td.inf,td.inf,0),\n",
    "    freqs=fr.freqs(N),\n",
    "    name='diffraction_monitor',\n",
    "    normal_dir='-', # away from structure\n",
    ")"
   ]
  },
  {
   "cell_type": "code",
   "execution_count": 205,
   "id": "d35e9962",
   "metadata": {},
   "outputs": [
    {
     "data": {
      "image/png": "[encoded data removed]",
      "text/plain": [
       "<Figure size 1200x600 with 3 Axes>"
      ]
     },
     "metadata": {},
     "output_type": "display_data"
    }
   ],
   "source": [
    "sims = simulation_helper(\n",
    "    background=[polymer],\n",
    "    monitors=[monitor],\n",
    "    run_time=700 / (fr.fmax - fr.fmin)\n",
    ")"
   ]
  },
  {
   "cell_type": "code",
   "execution_count": 206,
   "id": "b86a96a4",
   "metadata": {},
   "outputs": [
    {
     "data": {
      "application/vnd.jupyter.widget-view+json": {
       "model_id": "679515c52de54712ad084a2f50eed8c0",
       "version_major": 2,
       "version_minor": 0
      },
      "text/plain": [
       "Output()"
      ]
     },
     "metadata": {},
     "output_type": "display_data"
    },
    {
     "data": {
      "text/html": [
       "<pre style=\"white-space:pre;overflow-x:auto;line-height:normal;font-family:Menlo,'DejaVu Sans Mono',consolas,'Courier New',monospace\"></pre>\n"
      ],
      "text/plain": []
     },
     "metadata": {},
     "output_type": "display_data"
    },
    {
     "data": {
      "text/html": [
       "<pre style=\"white-space:pre;overflow-x:auto;line-height:normal;font-family:Menlo,'DejaVu Sans Mono',consolas,'Courier New',monospace\"><span style=\"color: #7fbfbf; text-decoration-color: #7fbfbf\">22:17:43 EDT </span>Started working on Batch containing <span style=\"color: #008080; text-decoration-color: #008080; font-weight: bold\">2</span> tasks.                       \n",
       "</pre>\n"
      ],
      "text/plain": [
       "\u001b[2;36m22:17:43 EDT\u001b[0m\u001b[2;36m \u001b[0mStarted working on Batch containing \u001b[1;36m2\u001b[0m tasks.                       \n"
      ]
     },
     "metadata": {},
     "output_type": "display_data"
    },
    {
     "data": {
      "text/html": [
       "<pre style=\"white-space:pre;overflow-x:auto;line-height:normal;font-family:Menlo,'DejaVu Sans Mono',consolas,'Courier New',monospace\"><span style=\"color: #7fbfbf; text-decoration-color: #7fbfbf\">22:17:45 EDT </span>Maximum FlexCredit cost: <span style=\"color: #008080; text-decoration-color: #008080; font-weight: bold\">1.437</span> for the whole batch.                \n",
       "</pre>\n"
      ],
      "text/plain": [
       "\u001b[2;36m22:17:45 EDT\u001b[0m\u001b[2;36m \u001b[0mMaximum FlexCredit cost: \u001b[1;36m1.437\u001b[0m for the whole batch.                \n"
      ]
     },
     "metadata": {},
     "output_type": "display_data"
    },
    {
     "data": {
      "text/html": [
       "<pre style=\"white-space:pre;overflow-x:auto;line-height:normal;font-family:Menlo,'DejaVu Sans Mono',consolas,'Courier New',monospace\"><span style=\"color: #7fbfbf; text-decoration-color: #7fbfbf\">             </span>Use <span style=\"color: #008000; text-decoration-color: #008000\">'Batch.real_cost()'</span> to get the billed FlexCredit cost after the\n",
       "<span style=\"color: #7fbfbf; text-decoration-color: #7fbfbf\">             </span>Batch has completed.                                               \n",
       "</pre>\n"
      ],
      "text/plain": [
       "\u001b[2;36m            \u001b[0m\u001b[2;36m \u001b[0mUse \u001b[32m'Batch.real_cost\u001b[0m\u001b[32m(\u001b[0m\u001b[32m)\u001b[0m\u001b[32m'\u001b[0m to get the billed FlexCredit cost after the\n",
       "\u001b[2;36m             \u001b[0mBatch has completed.                                               \n"
      ]
     },
     "metadata": {},
     "output_type": "display_data"
    },
    {
     "data": {
      "application/vnd.jupyter.widget-view+json": {
       "model_id": "099500becb844d61a27cb9eb260c1c31",
       "version_major": 2,
       "version_minor": 0
      },
      "text/plain": [
       "Output()"
      ]
     },
     "metadata": {},
     "output_type": "display_data"
    },
    {
     "data": {
      "text/html": [
       "<pre style=\"white-space:pre;overflow-x:auto;line-height:normal;font-family:Menlo,'DejaVu Sans Mono',consolas,'Courier New',monospace\"><span style=\"color: #7fbfbf; text-decoration-color: #7fbfbf\">22:18:45 EDT </span>Batch complete.                                                    \n",
       "</pre>\n"
      ],
      "text/plain": [
       "\u001b[2;36m22:18:45 EDT\u001b[0m\u001b[2;36m \u001b[0mBatch complete.                                                    \n"
      ]
     },
     "metadata": {},
     "output_type": "display_data"
    },
    {
     "data": {
      "text/html": [
       "<pre style=\"white-space:pre;overflow-x:auto;line-height:normal;font-family:Menlo,'DejaVu Sans Mono',consolas,'Courier New',monospace\"></pre>\n"
      ],
      "text/plain": []
     },
     "metadata": {},
     "output_type": "display_data"
    },
    {
     "data": {
      "application/vnd.jupyter.widget-view+json": {
       "model_id": "c46f2047698e4e4190f6eddf012316bb",
       "version_major": 2,
       "version_minor": 0
      },
      "text/plain": [
       "Output()"
      ]
     },
     "metadata": {},
     "output_type": "display_data"
    },
    {
     "data": {
      "text/html": [
       "<pre style=\"white-space:pre;overflow-x:auto;line-height:normal;font-family:Menlo,'DejaVu Sans Mono',consolas,'Courier New',monospace\"></pre>\n"
      ],
      "text/plain": []
     },
     "metadata": {},
     "output_type": "display_data"
    }
   ],
   "source": [
    "batch = web.Batch(simulations=sims, verbose=True)\n",
    "batch_data = batch.run(path_dir=\"data/huygens_pol\")"
   ]
  },
  {
   "cell_type": "code",
   "execution_count": 207,
   "id": "c93bd8b6",
   "metadata": {},
   "outputs": [],
   "source": [
    "first_order = batch_data[\"actual\"][\"diffraction_monitor\"].amps[1][1]\n",
    "norm_amps = batch_data[\"norm\"][\"diffraction_monitor\"].amps[1][1]\n",
    "phase_p2 = np.unwrap(np.angle(first_order[:, 1]))\n",
    "phase_p2 = phase_p2 - phase_p2[0]\n",
    "norm_phase_p2 = np.unwrap(np.angle(norm_amps[:, 1]))\n",
    "norm_phase_p2 = norm_phase_p2 - norm_phase_p2[0]\n",
    "\n",
    "phase = phase_p2 - norm_phase_p2"
   ]
  },
  {
   "cell_type": "code",
   "execution_count": 211,
   "id": "86b45cc1",
   "metadata": {},
   "outputs": [
    {
     "data": {
      "image/png": "[encoded data removed]",
      "text/plain": [
       "<Figure size 600x450 with 1 Axes>"
      ]
     },
     "metadata": {},
     "output_type": "display_data"
    }
   ],
   "source": [
    "fig, ax = plt.subplots(1, 1, figsize=(6, 4.5))\n",
    "plt.plot(td.C_0 / fr.freqs(N) * 1000, phase, \"r\", lw=1, label=\"$\\phi$\")\n",
    "plt.xlabel(r\"wavelength ($nm$)\")\n",
    "plt.ylabel(\"Phase\")\n",
    "yticks = [0, np.pi/2, np.pi, 3*np.pi/2, 2*np.pi]\n",
    "ytick_labels = [r\"$0$\", r\"$\\frac{\\pi}{2}$\", r\"$\\pi$\", \n",
    "                r\"$\\frac{3\\pi}{2}$\", r\"$2\\pi$\"]\n",
    "ax.set_yticks(yticks)\n",
    "ax.set_yticklabels(ytick_labels)\n",
    "ax.legend()\n",
    "plt.legend()\n",
    "plt.savefig(\"phase.png\", dpi=300)\n",
    "plt.show()"
   ]
  },
  {
   "cell_type": "code",
   "execution_count": null,
   "id": "1815fff9",
   "metadata": {},
   "outputs": [],
   "source": []
  }
 ],
 "metadata": {
  "kernelspec": {
   "display_name": "ai",
   "language": "python",
   "name": "python3"
  },
  "language_info": {
   "codemirror_mode": {
    "name": "ipython",
    "version": 3
   },
   "file_extension": ".py",
   "mimetype": "text/x-python",
   "name": "python",
   "nbconvert_exporter": "python",
   "pygments_lexer": "ipython3",
   "version": "3.11.13"
  }
 },
 "nbformat": 4,
 "nbformat_minor": 5
}
